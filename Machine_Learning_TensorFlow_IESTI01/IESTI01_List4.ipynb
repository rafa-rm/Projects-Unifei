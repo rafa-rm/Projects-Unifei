{
  "cells": [
    {
      "attachments": {},
      "cell_type": "markdown",
      "metadata": {
        "id": "NWDEcPRS5w3I"
      },
      "source": [
        "# Rafael Rocha Maciel - UNIFEI - IESTI01"
      ]
    },
    {
      "cell_type": "markdown",
      "metadata": {
        "id": "54wtANo3r5ae"
      },
      "source": [
        "# Exploring CNN learning with TensorFlow\n",
        "\n",
        "In this assignment we will work again with the [Fashion MNIST Dataset](https://www.tensorflow.org/api_docs/python/tf/keras/datasets/fashion_mnist/load_data). This is a dataset of 60,000 28x28 grayscale images of 10 fashion categories, along with a test set of 10,000 images. \n",
        "\n",
        "A base notbook is provide for you to start. Complete the values when required, for example:\n",
        "- VALUE = #ENTER YOUR VALUE; This will initialize a variable that will be used on the code.\n",
        "\n",
        "Once you run the model at leat once without errors, try change the given hyperparameters, as number of filters, layers and neurons (units). Comment your obsevations. \n",
        "\n",
        "Try to modify the notebook, creating functions to show the images, together with their labels. Save the model and explored it with Netron.\n"
      ]
    },
    {
      "cell_type": "code",
      "execution_count": 1,
      "metadata": {
        "ExecuteTime": {
          "end_time": "2020-06-22T17:24:26.890662Z",
          "start_time": "2020-06-22T17:24:26.887618Z"
        },
        "id": "BB_R-WuKdaVD"
      },
      "outputs": [],
      "source": [
        "import numpy as np\n",
        "import matplotlib.pyplot as plt\n",
        "import tensorflow as tf"
      ]
    },
    {
      "cell_type": "code",
      "execution_count": 2,
      "metadata": {
        "colab": {
          "base_uri": "https://localhost:8080/"
        },
        "id": "Vp-irgw1eGMJ",
        "outputId": "8882af19-4f9e-4f1c-87a8-6c254c125c7e"
      },
      "outputs": [
        {
          "name": "stdout",
          "output_type": "stream",
          "text": [
            "Downloading data from https://storage.googleapis.com/tensorflow/tf-keras-datasets/train-labels-idx1-ubyte.gz\n",
            "32768/29515 [=================================] - 0s 0us/step\n",
            "40960/29515 [=========================================] - 0s 0us/step\n",
            "Downloading data from https://storage.googleapis.com/tensorflow/tf-keras-datasets/train-images-idx3-ubyte.gz\n",
            "26427392/26421880 [==============================] - 0s 0us/step\n",
            "26435584/26421880 [==============================] - 0s 0us/step\n",
            "Downloading data from https://storage.googleapis.com/tensorflow/tf-keras-datasets/t10k-labels-idx1-ubyte.gz\n",
            "16384/5148 [===============================================================================================] - 0s 0us/step\n",
            "Downloading data from https://storage.googleapis.com/tensorflow/tf-keras-datasets/t10k-images-idx3-ubyte.gz\n",
            "4423680/4422102 [==============================] - 0s 0us/step\n",
            "4431872/4422102 [==============================] - 0s 0us/step\n"
          ]
        }
      ],
      "source": [
        "# Load in fashion MNIST\n",
        "mnist = tf.keras.datasets.fashion_mnist\n",
        "(x_train, y_train), (x_test, y_test) = mnist.load_data()"
      ]
    },
    {
      "cell_type": "markdown",
      "metadata": {
        "id": "eq3prQ3edaVE"
      },
      "source": [
        "##  Visualizing the Image Data"
      ]
    },
    {
      "cell_type": "code",
      "execution_count": 3,
      "metadata": {
        "colab": {
          "base_uri": "https://localhost:8080/"
        },
        "id": "C70CYNCMdaVF",
        "outputId": "f5f7bfed-e423-4714-c846-92474ef16693"
      },
      "outputs": [
        {
          "data": {
            "text/plain": [
              "(60000, 28, 28)"
            ]
          },
          "execution_count": 3,
          "metadata": {},
          "output_type": "execute_result"
        }
      ],
      "source": [
        "x_train.shape"
      ]
    },
    {
      "cell_type": "code",
      "execution_count": 4,
      "metadata": {
        "colab": {
          "base_uri": "https://localhost:8080/",
          "height": 265
        },
        "id": "ONkpiR91daVH",
        "outputId": "efba979f-c285-4a32-bf90-9ac8ae1c2801"
      },
      "outputs": [
        {
          "data": {
            "image/png": "[encoded data removed]",
            "text/plain": [
              "<Figure size 432x288 with 1 Axes>"
            ]
          },
          "metadata": {
            "needs_background": "light"
          },
          "output_type": "display_data"
        }
      ],
      "source": [
        "plt.imshow(x_train[0]);"
      ]
    },
    {
      "cell_type": "markdown",
      "metadata": {
        "id": "RPXpudgkdaVI"
      },
      "source": [
        "# PreProcessing Data\n",
        "\n",
        "Let's change the labels to categorical (it is not necessary, but it is good to explore it). PAY ATTENTION TO LOSS, when compiling."
      ]
    },
    {
      "cell_type": "markdown",
      "metadata": {
        "id": "T7_raF06daVI"
      },
      "source": [
        "## Labels"
      ]
    },
    {
      "cell_type": "code",
      "execution_count": 5,
      "metadata": {
        "colab": {
          "base_uri": "https://localhost:8080/"
        },
        "id": "Hi7npvQvdaVI",
        "outputId": "8c072401-6014-44b6-d418-b463038f70d8"
      },
      "outputs": [
        {
          "data": {
            "text/plain": [
              "array([9, 0, 0, ..., 3, 0, 5], dtype=uint8)"
            ]
          },
          "execution_count": 5,
          "metadata": {},
          "output_type": "execute_result"
        }
      ],
      "source": [
        "y_train"
      ]
    },
    {
      "cell_type": "code",
      "execution_count": 6,
      "metadata": {
        "colab": {
          "base_uri": "https://localhost:8080/"
        },
        "id": "ByFDbQtedaVJ",
        "outputId": "3c1a77ac-6ba0-4004-8601-b1afa7e3cae8"
      },
      "outputs": [
        {
          "data": {
            "text/plain": [
              "array([9, 2, 1, ..., 8, 1, 5], dtype=uint8)"
            ]
          },
          "execution_count": 6,
          "metadata": {},
          "output_type": "execute_result"
        }
      ],
      "source": [
        "y_test"
      ]
    },
    {
      "cell_type": "markdown",
      "metadata": {
        "id": "JnPwRo_9daVJ"
      },
      "source": [
        "The labels are literally categories of numbers, so we will translate them to be \"one hot encoded\":"
      ]
    },
    {
      "cell_type": "code",
      "execution_count": 7,
      "metadata": {
        "ExecuteTime": {
          "end_time": "2020-06-22T17:30:32.708965Z",
          "start_time": "2020-06-22T17:30:32.706067Z"
        },
        "id": "2fvn6a0mdaVK"
      },
      "outputs": [],
      "source": [
        "from tensorflow.keras.utils import to_categorical"
      ]
    },
    {
      "cell_type": "code",
      "execution_count": 8,
      "metadata": {
        "colab": {
          "base_uri": "https://localhost:8080/"
        },
        "id": "cZdl3qKtdaVK",
        "outputId": "bdd3913e-0a8a-4522-8d85-90ed02920a79"
      },
      "outputs": [
        {
          "data": {
            "text/plain": [
              "(60000,)"
            ]
          },
          "execution_count": 8,
          "metadata": {},
          "output_type": "execute_result"
        }
      ],
      "source": [
        "y_train.shape"
      ]
    },
    {
      "cell_type": "code",
      "execution_count": 9,
      "metadata": {
        "colab": {
          "base_uri": "https://localhost:8080/"
        },
        "id": "CX6ORkd7daVM",
        "outputId": "ae613b92-089f-47f3-92c4-63f11c09fdaa"
      },
      "outputs": [
        {
          "data": {
            "text/plain": [
              "(10000, 10)"
            ]
          },
          "execution_count": 9,
          "metadata": {},
          "output_type": "execute_result"
        }
      ],
      "source": [
        "y_cat_test = to_categorical(y_test,10)\n",
        "y_cat_test.shape"
      ]
    },
    {
      "cell_type": "code",
      "execution_count": 10,
      "metadata": {
        "colab": {
          "base_uri": "https://localhost:8080/"
        },
        "id": "gtr51Q80daVM",
        "outputId": "67bb9720-3cbe-42c6-d7a9-c32868d33752"
      },
      "outputs": [
        {
          "data": {
            "text/plain": [
              "(60000, 10)"
            ]
          },
          "execution_count": 10,
          "metadata": {},
          "output_type": "execute_result"
        }
      ],
      "source": [
        "y_cat_train = to_categorical(y_train,10)\n",
        "y_cat_train.shape"
      ]
    },
    {
      "cell_type": "code",
      "execution_count": 11,
      "metadata": {
        "colab": {
          "base_uri": "https://localhost:8080/"
        },
        "id": "M4P-HF6Hfsd1",
        "outputId": "70b4fd20-e8e1-4982-de28-101303997a37"
      },
      "outputs": [
        {
          "name": "stdout",
          "output_type": "stream",
          "text": [
            "9\n",
            "[0. 0. 0. 0. 0. 0. 0. 0. 0. 1.]\n"
          ]
        }
      ],
      "source": [
        "# verifing one sample label\n",
        "print(y_train[0])\n",
        "print(y_cat_train[0])"
      ]
    },
    {
      "cell_type": "markdown",
      "metadata": {
        "id": "aLDhcm4-daVM"
      },
      "source": [
        "### Processing X Data\n",
        "\n",
        "We should normalize the X data"
      ]
    },
    {
      "cell_type": "code",
      "execution_count": 12,
      "metadata": {
        "colab": {
          "base_uri": "https://localhost:8080/"
        },
        "id": "yEvVxUAGdaVM",
        "outputId": "99d9adf4-2477-4181-ac71-c0e89924881f"
      },
      "outputs": [
        {
          "data": {
            "text/plain": [
              "255"
            ]
          },
          "execution_count": 12,
          "metadata": {},
          "output_type": "execute_result"
        }
      ],
      "source": [
        "x_train.max()"
      ]
    },
    {
      "cell_type": "code",
      "execution_count": 13,
      "metadata": {
        "colab": {
          "base_uri": "https://localhost:8080/"
        },
        "id": "TmYNgmNcdaVN",
        "outputId": "8cb05a7b-8e18-47f3-fdaa-c18c78600ecf"
      },
      "outputs": [
        {
          "data": {
            "text/plain": [
              "0"
            ]
          },
          "execution_count": 13,
          "metadata": {},
          "output_type": "execute_result"
        }
      ],
      "source": [
        "x_train.min()"
      ]
    },
    {
      "cell_type": "code",
      "execution_count": 14,
      "metadata": {
        "id": "XhBNIx6fpdD8"
      },
      "outputs": [],
      "source": [
        "VALUE = 255.0"
      ]
    },
    {
      "cell_type": "code",
      "execution_count": 15,
      "metadata": {
        "ExecuteTime": {
          "end_time": "2020-06-22T17:33:53.279050Z",
          "start_time": "2020-06-22T17:33:53.013477Z"
        },
        "id": "moCF3-NXdaVN"
      },
      "outputs": [],
      "source": [
        "x_train = x_train/VALUE\n",
        "x_test = x_test/VALUE"
      ]
    },
    {
      "cell_type": "code",
      "execution_count": 16,
      "metadata": {
        "colab": {
          "base_uri": "https://localhost:8080/"
        },
        "id": "9YhUF_rt6CJP",
        "outputId": "d405aa5b-54d3-446e-fda7-608b20c62644"
      },
      "outputs": [
        {
          "data": {
            "text/plain": [
              "1.0"
            ]
          },
          "execution_count": 16,
          "metadata": {},
          "output_type": "execute_result"
        }
      ],
      "source": [
        "# Confirmando que a normalização deu certo\n",
        "x_train.max()"
      ]
    },
    {
      "cell_type": "code",
      "execution_count": 17,
      "metadata": {
        "colab": {
          "base_uri": "https://localhost:8080/",
          "height": 265
        },
        "id": "lJIsNDMndaVO",
        "outputId": "407c91b1-6992-4721-ec4a-749b6e1a9dcd"
      },
      "outputs": [
        {
          "data": {
            "image/png": "[encoded data removed]",
            "text/plain": [
              "<Figure size 432x288 with 1 Axes>"
            ]
          },
          "metadata": {
            "needs_background": "light"
          },
          "output_type": "display_data"
        }
      ],
      "source": [
        "plt.imshow(x_train[0]);"
      ]
    },
    {
      "cell_type": "markdown",
      "metadata": {
        "id": "TBzuSjuidaVO"
      },
      "source": [
        "## Reshaping the Data\n",
        "\n",
        "Right now our data is 60,000 images stored in 28 by 28 pixel array formation. \n",
        "\n",
        "For to use it with CNN, we need to add one more dimension to show we're dealing with 1 RGB channel \n",
        "- The images are in black and white, only showing values from 0-255 on a single channel, an color image would have 3 dimensions."
      ]
    },
    {
      "cell_type": "code",
      "execution_count": 18,
      "metadata": {
        "colab": {
          "base_uri": "https://localhost:8080/"
        },
        "id": "XND6BAKrdaVP",
        "outputId": "eff90e87-4145-418c-b50c-0d02abddf5d7"
      },
      "outputs": [
        {
          "data": {
            "text/plain": [
              "(60000, 28, 28)"
            ]
          },
          "execution_count": 18,
          "metadata": {},
          "output_type": "execute_result"
        }
      ],
      "source": [
        "x_train.shape"
      ]
    },
    {
      "cell_type": "code",
      "execution_count": 19,
      "metadata": {
        "colab": {
          "base_uri": "https://localhost:8080/"
        },
        "id": "0jNuDTRfdaVP",
        "outputId": "cf1e0e77-2505-4390-95e7-b16843d29000"
      },
      "outputs": [
        {
          "data": {
            "text/plain": [
              "(10000, 28, 28)"
            ]
          },
          "execution_count": 19,
          "metadata": {},
          "output_type": "execute_result"
        }
      ],
      "source": [
        "x_test.shape"
      ]
    },
    {
      "cell_type": "markdown",
      "metadata": {
        "id": "P8GoezeGdaVP"
      },
      "source": [
        "Reshaping to include channel dimension (in this case, 1 channel)"
      ]
    },
    {
      "cell_type": "code",
      "execution_count": 20,
      "metadata": {
        "ExecuteTime": {
          "end_time": "2020-06-22T17:36:40.859036Z",
          "start_time": "2020-06-22T17:36:40.855137Z"
        },
        "id": "frXT0zU-daVQ"
      },
      "outputs": [],
      "source": [
        "x_train = x_train.reshape(60000, 28, 28, 1)"
      ]
    },
    {
      "cell_type": "code",
      "execution_count": 21,
      "metadata": {
        "colab": {
          "base_uri": "https://localhost:8080/"
        },
        "id": "Yv4EYmvkdaVQ",
        "outputId": "c3069272-80a2-420d-ff1d-2fb52e379b15"
      },
      "outputs": [
        {
          "data": {
            "text/plain": [
              "(60000, 28, 28, 1)"
            ]
          },
          "execution_count": 21,
          "metadata": {},
          "output_type": "execute_result"
        }
      ],
      "source": [
        "# batch_size, widht, height, color_channels\n",
        "x_train.shape"
      ]
    },
    {
      "cell_type": "code",
      "execution_count": 22,
      "metadata": {
        "ExecuteTime": {
          "end_time": "2020-06-22T17:38:23.931295Z",
          "start_time": "2020-06-22T17:38:23.928512Z"
        },
        "id": "tti9WIzRdaVQ"
      },
      "outputs": [],
      "source": [
        "x_test = x_test.reshape(10000,28,28,1)"
      ]
    },
    {
      "cell_type": "code",
      "execution_count": 23,
      "metadata": {
        "colab": {
          "base_uri": "https://localhost:8080/"
        },
        "id": "_dNYdZgTdaVQ",
        "outputId": "7cf03d86-a83f-4bcc-e7f1-73d36f3908d0"
      },
      "outputs": [
        {
          "data": {
            "text/plain": [
              "(10000, 28, 28, 1)"
            ]
          },
          "execution_count": 23,
          "metadata": {},
          "output_type": "execute_result"
        }
      ],
      "source": [
        "x_test.shape"
      ]
    },
    {
      "cell_type": "markdown",
      "metadata": {
        "id": "SRMMcTK9daVR"
      },
      "source": [
        "## Create Model Arquitecture and Compile"
      ]
    },
    {
      "cell_type": "code",
      "execution_count": 24,
      "metadata": {
        "ExecuteTime": {
          "end_time": "2020-06-22T17:40:05.070235Z",
          "start_time": "2020-06-22T17:40:05.067001Z"
        },
        "id": "5HDUJklRdaVR"
      },
      "outputs": [],
      "source": [
        "from tensorflow.keras.models import Sequential\n",
        "from tensorflow.keras.layers import Dense, Conv2D, MaxPool2D, Flatten"
      ]
    },
    {
      "cell_type": "code",
      "execution_count": 25,
      "metadata": {
        "id": "mfm9X3VLpy2I"
      },
      "outputs": [],
      "source": [
        "LAYER_ACTIVATION = 'relu'\n",
        "LAST_LAYER_ACTIVATION = 'softmax'\n",
        "OUTPUT_LAYER_NEURONS = 10\n",
        "LOSS = 'categorical_crossentropy'\n",
        "OPT = 'adam'"
      ]
    },
    {
      "cell_type": "code",
      "execution_count": 26,
      "metadata": {
        "colab": {
          "base_uri": "https://localhost:8080/"
        },
        "id": "rKy22xhudaVR",
        "outputId": "60ea257f-f678-424f-afd5-d3aceb165af8"
      },
      "outputs": [
        {
          "name": "stdout",
          "output_type": "stream",
          "text": [
            "Model: \"sequential\"\n",
            "_________________________________________________________________\n",
            " Layer (type)                Output Shape              Param #   \n",
            "=================================================================\n",
            " conv2d (Conv2D)             (None, 25, 25, 32)        544       \n",
            "                                                                 \n",
            " max_pooling2d (MaxPooling2D  (None, 12, 12, 32)       0         \n",
            " )                                                               \n",
            "                                                                 \n",
            " flatten (Flatten)           (None, 4608)              0         \n",
            "                                                                 \n",
            " dense (Dense)               (None, 128)               589952    \n",
            "                                                                 \n",
            " dense_1 (Dense)             (None, 10)                1290      \n",
            "                                                                 \n",
            "=================================================================\n",
            "Total params: 591,786\n",
            "Trainable params: 591,786\n",
            "Non-trainable params: 0\n",
            "_________________________________________________________________\n"
          ]
        }
      ],
      "source": [
        "model = Sequential()\n",
        "\n",
        "model.add(\n",
        "    Conv2D(\n",
        "        filters=32,\n",
        "        kernel_size=(4, 4),\n",
        "        input_shape=(28, 28, 1),\n",
        "        activation=LAYER_ACTIVATION,\n",
        "    ))\n",
        "model.add(MaxPool2D(pool_size=(2, 2)))\n",
        "model.add(Flatten())\n",
        "model.add(Dense(128, activation=LAYER_ACTIVATION))\n",
        "model.add(Dense(OUTPUT_LAYER_NEURONS, activation=LAST_LAYER_ACTIVATION))\n",
        "\n",
        "model.summary()"
      ]
    },
    {
      "cell_type": "code",
      "execution_count": 27,
      "metadata": {
        "ExecuteTime": {
          "end_time": "2020-06-22T17:57:58.916305Z",
          "start_time": "2020-06-22T17:57:58.904410Z"
        },
        "id": "UI3bs5Q7daVS"
      },
      "outputs": [],
      "source": [
        "model.compile(loss=LOSS,\n",
        "              optimizer=OPT,\n",
        "              metrics=['accuracy']) "
      ]
    },
    {
      "cell_type": "markdown",
      "metadata": {
        "id": "lSy3nDVddaVT"
      },
      "source": [
        "## Train the Model"
      ]
    },
    {
      "cell_type": "markdown",
      "metadata": {
        "id": "5ZSAi--Ujizm"
      },
      "source": [
        "Let's add a callback, \"EarlyStopping\". This one of the techinics to prevent overfitting.\n"
      ]
    },
    {
      "cell_type": "code",
      "execution_count": 28,
      "metadata": {
        "ExecuteTime": {
          "end_time": "2020-06-22T18:06:01.970020Z",
          "start_time": "2020-06-22T18:06:01.966900Z"
        },
        "id": "14rriIOodaVS"
      },
      "outputs": [],
      "source": [
        "from tensorflow.keras.callbacks import EarlyStopping"
      ]
    },
    {
      "cell_type": "code",
      "execution_count": 29,
      "metadata": {
        "ExecuteTime": {
          "end_time": "2020-06-22T18:06:05.919154Z",
          "start_time": "2020-06-22T18:06:05.915458Z"
        },
        "id": "oyHbQCFjdaVS"
      },
      "outputs": [],
      "source": [
        "early_stop = EarlyStopping(monitor='val_loss',patience=2)"
      ]
    },
    {
      "cell_type": "code",
      "execution_count": 30,
      "metadata": {
        "id": "UBNdojtlrGdt"
      },
      "outputs": [],
      "source": [
        "EPOCHS = 10\n",
        "VAL_SPLIT = 0.1"
      ]
    },
    {
      "cell_type": "code",
      "execution_count": 31,
      "metadata": {
        "colab": {
          "base_uri": "https://localhost:8080/"
        },
        "id": "spheyRwFdaVT",
        "outputId": "e904b28b-abc8-43a5-8c71-3b0ff37c3213"
      },
      "outputs": [
        {
          "name": "stdout",
          "output_type": "stream",
          "text": [
            "Epoch 1/10\n",
            "1688/1688 [==============================] - 19s 6ms/step - loss: 0.4167 - accuracy: 0.8508 - val_loss: 0.3396 - val_accuracy: 0.8763\n",
            "Epoch 2/10\n",
            "1688/1688 [==============================] - 9s 5ms/step - loss: 0.2843 - accuracy: 0.8979 - val_loss: 0.2888 - val_accuracy: 0.8950\n",
            "Epoch 3/10\n",
            "1688/1688 [==============================] - 9s 5ms/step - loss: 0.2383 - accuracy: 0.9125 - val_loss: 0.2671 - val_accuracy: 0.9000\n",
            "Epoch 4/10\n",
            "1688/1688 [==============================] - 9s 5ms/step - loss: 0.2056 - accuracy: 0.9226 - val_loss: 0.2584 - val_accuracy: 0.9077\n",
            "Epoch 5/10\n",
            "1688/1688 [==============================] - 9s 5ms/step - loss: 0.1784 - accuracy: 0.9340 - val_loss: 0.2513 - val_accuracy: 0.9105\n",
            "Epoch 6/10\n",
            "1688/1688 [==============================] - 9s 5ms/step - loss: 0.1507 - accuracy: 0.9439 - val_loss: 0.2585 - val_accuracy: 0.9105\n",
            "Epoch 7/10\n",
            "1688/1688 [==============================] - 9s 5ms/step - loss: 0.1305 - accuracy: 0.9512 - val_loss: 0.2718 - val_accuracy: 0.9088\n"
          ]
        }
      ],
      "source": [
        "history = model.fit(x_train,\n",
        "                    y_cat_train,\n",
        "                    epochs=EPOCHS,\n",
        "                    validation_split=VAL_SPLIT,\n",
        "                    callbacks=[early_stop])"
      ]
    },
    {
      "cell_type": "code",
      "execution_count": 32,
      "metadata": {
        "colab": {
          "base_uri": "https://localhost:8080/",
          "height": 295
        },
        "id": "vnOivRxYl3Pi",
        "outputId": "47da212a-95ce-429d-fb58-c5dd2df6e4d1"
      },
      "outputs": [
        {
          "data": {
            "image/png": "[encoded data removed]",
            "text/plain": [
              "<Figure size 432x288 with 1 Axes>"
            ]
          },
          "metadata": {
            "needs_background": "light"
          },
          "output_type": "display_data"
        }
      ],
      "source": [
        "# summarize history for loss\n",
        "plt.plot(history.history['loss'])\n",
        "plt.plot(history.history['val_loss'])\n",
        "plt.title('model loss')\n",
        "plt.ylabel('loss')\n",
        "plt.xlabel('epoch')\n",
        "plt.legend(['train', 'validation'], loc='upper left')\n",
        "plt.show()"
      ]
    },
    {
      "cell_type": "code",
      "execution_count": 33,
      "metadata": {
        "colab": {
          "base_uri": "https://localhost:8080/",
          "height": 295
        },
        "id": "nzWtqzNllQP4",
        "outputId": "278a29ba-feb1-4c0f-ba55-140de06f45a4"
      },
      "outputs": [
        {
          "data": {
            "image/png": "[encoded data removed]",
            "text/plain": [
              "<Figure size 432x288 with 1 Axes>"
            ]
          },
          "metadata": {
            "needs_background": "light"
          },
          "output_type": "display_data"
        }
      ],
      "source": [
        "# summarize history for accuracy\n",
        "plt.plot(history.history['accuracy'])\n",
        "plt.plot(history.history['val_accuracy'])\n",
        "plt.title('model accuracy')\n",
        "plt.ylabel('accuracy')\n",
        "plt.xlabel('epoch')\n",
        "plt.legend(['train', 'validation'], loc='upper left')\n",
        "plt.show()"
      ]
    },
    {
      "cell_type": "markdown",
      "metadata": {
        "id": "yEiwOLvmdaVT"
      },
      "source": [
        "## Evaluate the Model"
      ]
    },
    {
      "cell_type": "code",
      "execution_count": 34,
      "metadata": {
        "colab": {
          "base_uri": "https://localhost:8080/"
        },
        "id": "I58YRc4ymfvg",
        "outputId": "2cd119dc-b9fe-4d6f-bcab-64a43ac91c47"
      },
      "outputs": [
        {
          "name": "stdout",
          "output_type": "stream",
          "text": [
            "['loss', 'accuracy']\n",
            "[0.288439005613327, 0.9049999713897705]\n"
          ]
        }
      ],
      "source": [
        "print(model.metrics_names)\n",
        "print(model.evaluate(x_test,y_cat_test,verbose=0))"
      ]
    },
    {
      "cell_type": "code",
      "execution_count": 35,
      "metadata": {
        "ExecuteTime": {
          "end_time": "2020-06-22T18:11:18.389748Z",
          "start_time": "2020-06-22T18:11:15.013268Z"
        },
        "id": "O-z0KSmWdaVV"
      },
      "outputs": [],
      "source": [
        "from sklearn.metrics import classification_report,confusion_matrix"
      ]
    },
    {
      "cell_type": "code",
      "execution_count": 36,
      "metadata": {
        "colab": {
          "base_uri": "https://localhost:8080/"
        },
        "id": "0na0BaOsm4Md",
        "outputId": "ac77b558-ce18-4284-df34-90ac240dc5f3"
      },
      "outputs": [
        {
          "data": {
            "text/plain": [
              "(10000,)"
            ]
          },
          "execution_count": 36,
          "metadata": {},
          "output_type": "execute_result"
        }
      ],
      "source": [
        "predictions = np.argmax(model.predict(x_test), axis=-1)\n",
        "predictions.shape"
      ]
    },
    {
      "cell_type": "code",
      "execution_count": 37,
      "metadata": {
        "colab": {
          "base_uri": "https://localhost:8080/"
        },
        "id": "fKhvSgQUdaVV",
        "outputId": "aaee55af-0de3-4601-8427-b346782ddd4b"
      },
      "outputs": [
        {
          "data": {
            "text/plain": [
              "(10000, 10)"
            ]
          },
          "execution_count": 37,
          "metadata": {},
          "output_type": "execute_result"
        }
      ],
      "source": [
        "y_cat_test.shape"
      ]
    },
    {
      "cell_type": "code",
      "execution_count": 38,
      "metadata": {
        "colab": {
          "base_uri": "https://localhost:8080/"
        },
        "id": "9MYh6eMWdaVW",
        "outputId": "1eb34ed1-60bd-4f2f-e498-c4927f8baa01"
      },
      "outputs": [
        {
          "data": {
            "text/plain": [
              "array([0., 0., 0., 0., 0., 0., 0., 0., 0., 1.], dtype=float32)"
            ]
          },
          "execution_count": 38,
          "metadata": {},
          "output_type": "execute_result"
        }
      ],
      "source": [
        "y_cat_test[0]"
      ]
    },
    {
      "cell_type": "code",
      "execution_count": 39,
      "metadata": {
        "colab": {
          "base_uri": "https://localhost:8080/"
        },
        "id": "DocEY85xdaVW",
        "outputId": "deced550-37cd-4231-9d47-e5b06388fc0b"
      },
      "outputs": [
        {
          "data": {
            "text/plain": [
              "9"
            ]
          },
          "execution_count": 39,
          "metadata": {},
          "output_type": "execute_result"
        }
      ],
      "source": [
        "predictions[0]"
      ]
    },
    {
      "cell_type": "code",
      "execution_count": 40,
      "metadata": {
        "colab": {
          "base_uri": "https://localhost:8080/"
        },
        "id": "MBd0ZVSGdaVW",
        "outputId": "b5c7510f-9838-4171-e2f0-21d4af3aa7ac"
      },
      "outputs": [
        {
          "data": {
            "text/plain": [
              "array([9, 2, 1, ..., 8, 1, 5], dtype=uint8)"
            ]
          },
          "execution_count": 40,
          "metadata": {},
          "output_type": "execute_result"
        }
      ],
      "source": [
        "y_test"
      ]
    },
    {
      "cell_type": "code",
      "execution_count": 41,
      "metadata": {
        "colab": {
          "base_uri": "https://localhost:8080/"
        },
        "id": "IZ_wRaPtdaVW",
        "outputId": "857ea4f8-9d23-4039-84e6-d6a50d9b0b9d"
      },
      "outputs": [
        {
          "name": "stdout",
          "output_type": "stream",
          "text": [
            "              precision    recall  f1-score   support\n",
            "\n",
            "           0       0.85      0.85      0.85      1000\n",
            "           1       0.99      0.98      0.99      1000\n",
            "           2       0.81      0.89      0.85      1000\n",
            "           3       0.93      0.90      0.92      1000\n",
            "           4       0.89      0.82      0.85      1000\n",
            "           5       0.96      0.99      0.98      1000\n",
            "           6       0.75      0.77      0.76      1000\n",
            "           7       0.98      0.89      0.93      1000\n",
            "           8       0.99      0.98      0.98      1000\n",
            "           9       0.91      0.99      0.95      1000\n",
            "\n",
            "    accuracy                           0.91     10000\n",
            "   macro avg       0.91      0.91      0.91     10000\n",
            "weighted avg       0.91      0.91      0.91     10000\n",
            "\n"
          ]
        }
      ],
      "source": [
        "print(classification_report(y_test,predictions))"
      ]
    },
    {
      "cell_type": "code",
      "execution_count": 42,
      "metadata": {
        "colab": {
          "base_uri": "https://localhost:8080/"
        },
        "id": "3jjuikasdaVX",
        "outputId": "740e7aeb-ec10-4620-ee4d-b4a69034f878"
      },
      "outputs": [
        {
          "data": {
            "text/plain": [
              "array([[850,   0,  18,  16,   2,   3, 105,   0,   6,   0],\n",
              "       [  0, 980,   1,  11,   2,   0,   5,   0,   1,   0],\n",
              "       [ 18,   1, 891,   3,  33,   1,  53,   0,   0,   0],\n",
              "       [ 19,   2,  20, 904,  21,   0,  32,   0,   1,   1],\n",
              "       [  1,   1,  96,  21, 819,   0,  62,   0,   0,   0],\n",
              "       [  0,   0,   0,   0,   0, 986,   0,   5,   0,   9],\n",
              "       [103,   1,  64,  18,  45,   0, 766,   0,   3,   0],\n",
              "       [  0,   0,   0,   0,   0,  26,   0, 887,   0,  87],\n",
              "       [  5,   0,   7,   1,   1,   2,   1,   2, 981,   0],\n",
              "       [  1,   0,   0,   0,   0,   4,   0,   9,   0, 986]])"
            ]
          },
          "execution_count": 42,
          "metadata": {},
          "output_type": "execute_result"
        }
      ],
      "source": [
        "confusion_matrix(y_test,predictions)"
      ]
    },
    {
      "cell_type": "code",
      "execution_count": 43,
      "metadata": {
        "ExecuteTime": {
          "end_time": "2020-06-22T18:12:23.860860Z",
          "start_time": "2020-06-22T18:12:23.560656Z"
        },
        "id": "bdxOEOpfdaVX"
      },
      "outputs": [],
      "source": [
        "import seaborn as sns"
      ]
    },
    {
      "cell_type": "code",
      "execution_count": 44,
      "metadata": {
        "colab": {
          "base_uri": "https://localhost:8080/",
          "height": 483
        },
        "id": "Wj2E3l2XdaVX",
        "outputId": "d7c159ff-ae02-4aaa-aa0e-6edb9a709287"
      },
      "outputs": [
        {
          "data": {
            "image/png": "[encoded data removed]",
            "text/plain": [
              "<Figure size 1080x576 with 2 Axes>"
            ]
          },
          "metadata": {
            "needs_background": "light"
          },
          "output_type": "display_data"
        }
      ],
      "source": [
        "plt.figure(figsize=(15,8))\n",
        "sns.heatmap(confusion_matrix(y_test,predictions), cmap='Blues', annot=True, fmt='g');"
      ]
    },
    {
      "cell_type": "markdown",
      "metadata": {
        "id": "CBCSaZk3B1kR"
      },
      "source": [
        "## Modifying model parameters"
      ]
    },
    {
      "cell_type": "code",
      "execution_count": 45,
      "metadata": {
        "colab": {
          "base_uri": "https://localhost:8080/"
        },
        "id": "lgwXqZqQBugJ",
        "outputId": "6eecc0de-2c2e-4205-c477-99adbaf3d838"
      },
      "outputs": [
        {
          "name": "stdout",
          "output_type": "stream",
          "text": [
            "Model: \"sequential_1\"\n",
            "_________________________________________________________________\n",
            " Layer (type)                Output Shape              Param #   \n",
            "=================================================================\n",
            " conv2d_1 (Conv2D)           (None, 25, 25, 32)        544       \n",
            "                                                                 \n",
            " max_pooling2d_1 (MaxPooling  (None, 12, 12, 32)       0         \n",
            " 2D)                                                             \n",
            "                                                                 \n",
            " flatten_1 (Flatten)         (None, 4608)              0         \n",
            "                                                                 \n",
            " dense_2 (Dense)             (None, 64)                294976    \n",
            "                                                                 \n",
            " dense_3 (Dense)             (None, 10)                650       \n",
            "                                                                 \n",
            "=================================================================\n",
            "Total params: 296,170\n",
            "Trainable params: 296,170\n",
            "Non-trainable params: 0\n",
            "_________________________________________________________________\n"
          ]
        }
      ],
      "source": [
        "model2 = Sequential()\n",
        "\n",
        "model2.add(\n",
        "    Conv2D(\n",
        "        filters=32,\n",
        "        kernel_size=(4, 4),\n",
        "        input_shape=(28, 28, 1),\n",
        "        activation=LAYER_ACTIVATION,\n",
        "    ))\n",
        "model2.add(MaxPool2D(pool_size=(2, 2)))\n",
        "model2.add(Flatten())\n",
        "model2.add(Dense(64, activation=LAYER_ACTIVATION))\n",
        "model2.add(Dense(OUTPUT_LAYER_NEURONS, activation=LAST_LAYER_ACTIVATION))\n",
        "\n",
        "model2.summary()"
      ]
    },
    {
      "cell_type": "code",
      "execution_count": 46,
      "metadata": {
        "id": "RV32kbG8CGrJ"
      },
      "outputs": [],
      "source": [
        "model2.compile(loss=LOSS,\n",
        "              optimizer=OPT,\n",
        "              metrics=['accuracy']) "
      ]
    },
    {
      "cell_type": "markdown",
      "metadata": {
        "id": "IRTxBluoCNEi"
      },
      "source": [
        "## Train the new Model"
      ]
    },
    {
      "cell_type": "code",
      "execution_count": 47,
      "metadata": {
        "colab": {
          "base_uri": "https://localhost:8080/"
        },
        "id": "Y8o1SUj9CN96",
        "outputId": "36f94967-42f3-4ede-b43f-e56440f24b27"
      },
      "outputs": [
        {
          "name": "stdout",
          "output_type": "stream",
          "text": [
            "Epoch 1/10\n",
            "1688/1688 [==============================] - 10s 6ms/step - loss: 0.4473 - accuracy: 0.8428 - val_loss: 0.3354 - val_accuracy: 0.8758\n",
            "Epoch 2/10\n",
            "1688/1688 [==============================] - 9s 5ms/step - loss: 0.3091 - accuracy: 0.8887 - val_loss: 0.2875 - val_accuracy: 0.8943\n",
            "Epoch 3/10\n",
            "1688/1688 [==============================] - 9s 5ms/step - loss: 0.2626 - accuracy: 0.9038 - val_loss: 0.2649 - val_accuracy: 0.9045\n",
            "Epoch 4/10\n",
            "1688/1688 [==============================] - 9s 5ms/step - loss: 0.2311 - accuracy: 0.9152 - val_loss: 0.2612 - val_accuracy: 0.9027\n",
            "Epoch 5/10\n",
            "1688/1688 [==============================] - 9s 5ms/step - loss: 0.2031 - accuracy: 0.9253 - val_loss: 0.2523 - val_accuracy: 0.9063\n",
            "Epoch 6/10\n",
            "1688/1688 [==============================] - 9s 5ms/step - loss: 0.1817 - accuracy: 0.9327 - val_loss: 0.2674 - val_accuracy: 0.9072\n",
            "Epoch 7/10\n",
            "1688/1688 [==============================] - 9s 5ms/step - loss: 0.1621 - accuracy: 0.9397 - val_loss: 0.2691 - val_accuracy: 0.9100\n"
          ]
        }
      ],
      "source": [
        "history = model2.fit(x_train,\n",
        "                    y_cat_train,\n",
        "                    epochs=EPOCHS,\n",
        "                    validation_split=VAL_SPLIT,\n",
        "                    callbacks=[early_stop])"
      ]
    },
    {
      "cell_type": "markdown",
      "metadata": {
        "id": "CWGHHfPeEV2y"
      },
      "source": [
        "## Evaluate the new Model"
      ]
    },
    {
      "cell_type": "code",
      "execution_count": 48,
      "metadata": {
        "colab": {
          "base_uri": "https://localhost:8080/"
        },
        "id": "xvA8YkaFEb4y",
        "outputId": "c09c182b-db07-4683-d82a-157890396bf3"
      },
      "outputs": [
        {
          "name": "stdout",
          "output_type": "stream",
          "text": [
            "['loss', 'accuracy']\n",
            "[0.2773977220058441, 0.9050999879837036]\n"
          ]
        }
      ],
      "source": [
        "print(model2.metrics_names)\n",
        "print(model2.evaluate(x_test,y_cat_test,verbose=0))"
      ]
    },
    {
      "cell_type": "markdown",
      "metadata": {
        "id": "0EUOMIONC55x"
      },
      "source": [
        "## Confusion Matrix"
      ]
    },
    {
      "cell_type": "code",
      "execution_count": 49,
      "metadata": {
        "colab": {
          "base_uri": "https://localhost:8080/",
          "height": 483
        },
        "id": "Ju7NJgClC7c0",
        "outputId": "b2818860-1a10-4ad7-b292-a5e9ed7aba77"
      },
      "outputs": [
        {
          "data": {
            "image/png": "[encoded data removed]",
            "text/plain": [
              "<Figure size 1080x576 with 2 Axes>"
            ]
          },
          "metadata": {
            "needs_background": "light"
          },
          "output_type": "display_data"
        }
      ],
      "source": [
        "predictions2 = np.argmax(model2.predict(x_test), axis=-1)\n",
        "plt.figure(figsize=(15,8))\n",
        "sns.heatmap(confusion_matrix(y_test,predictions2), cmap='Blues', annot=True, fmt='g');"
      ]
    },
    {
      "cell_type": "markdown",
      "metadata": {
        "id": "vfr4yHRSEg04"
      },
      "source": [
        "Para o segundo modelo, eu diminui o número de neurônios da camada \"Dense\" de 128 para 64. O resultado obtido foi um pouco melhor do que o obtido pelo primeiro modelo, mesmo que o segundo modelo possua menos parâmetros. "
      ]
    },
    {
      "cell_type": "markdown",
      "metadata": {
        "id": "Iht_aslaGkzf"
      },
      "source": [
        "## Images with labels"
      ]
    },
    {
      "cell_type": "code",
      "execution_count": 58,
      "metadata": {
        "id": "KyKp-8L8OraU"
      },
      "outputs": [],
      "source": [
        "class_names = ['T-shirt/top', '\tTrouser','Pullover','Dress','Coat','Sandal','Shirt','Sneaker','Bag','Ankle boot']\n",
        "x_train = x_train.reshape(60000,28,28)"
      ]
    },
    {
      "cell_type": "code",
      "execution_count": 62,
      "metadata": {
        "colab": {
          "base_uri": "https://localhost:8080/",
          "height": 766
        },
        "id": "ggWi1kY1E7kA",
        "outputId": "a1ad6170-ef4f-461e-a2ff-fc724a9f74ae"
      },
      "outputs": [
        {
          "name": "stderr",
          "output_type": "stream",
          "text": [
            "/usr/local/lib/python3.7/dist-packages/matplotlib/backends/backend_agg.py:214: RuntimeWarning: Glyph 9 missing from current font.\n",
            "  font.set_text(s, 0.0, flags=flags)\n",
            "/usr/local/lib/python3.7/dist-packages/matplotlib/backends/backend_agg.py:183: RuntimeWarning: Glyph 9 missing from current font.\n",
            "  font.set_text(s, 0, flags=flags)\n"
          ]
        },
        {
          "data": {
            "image/png": "[encoded data removed]",
            "text/plain": [
              "<Figure size 864x864 with 25 Axes>"
            ]
          },
          "metadata": {},
          "output_type": "display_data"
        }
      ],
      "source": [
        "plt.figure(figsize=(12,12))\n",
        "for i in range(25):\n",
        "    plt.subplot(5,5,i+1)\n",
        "    plt.xticks([])\n",
        "    plt.yticks([])\n",
        "    plt.grid(False)\n",
        "    plt.imshow(x_train[i],cmap='gray');\n",
        "    plt.xlabel(class_names[y_train[i]]);\n",
        "plt.show()"
      ]
    },
    {
      "cell_type": "markdown",
      "metadata": {
        "id": "g1a7MieyR2_0"
      },
      "source": [
        "## Testing Model\n"
      ]
    },
    {
      "cell_type": "code",
      "execution_count": 72,
      "metadata": {
        "colab": {
          "base_uri": "https://localhost:8080/",
          "height": 265
        },
        "id": "-4XAUdVkR6hb",
        "outputId": "9e2a6dc5-41eb-47df-8f3a-550c65ecf2dc"
      },
      "outputs": [
        {
          "data": {
            "image/png": "[encoded data removed]",
            "text/plain": [
              "<Figure size 432x288 with 1 Axes>"
            ]
          },
          "metadata": {
            "needs_background": "light"
          },
          "output_type": "display_data"
        }
      ],
      "source": [
        "plt.imshow(x_test[0].reshape(28,28),cmap='gray');"
      ]
    },
    {
      "cell_type": "code",
      "execution_count": 73,
      "metadata": {
        "colab": {
          "base_uri": "https://localhost:8080/"
        },
        "id": "JUQwt8gkSQJc",
        "outputId": "d48f52e3-969b-4f9e-a958-43dd552da4d9"
      },
      "outputs": [
        {
          "name": "stdout",
          "output_type": "stream",
          "text": [
            "Ankle boot\n"
          ]
        }
      ],
      "source": [
        "print(class_names[y_test[0]])"
      ]
    }
  ],
  "metadata": {
    "accelerator": "GPU",
    "colab": {
      "collapsed_sections": [
        "TBzuSjuidaVO"
      ],
      "name": "IESTI01-List4-2018005619-Rafael.ipynb",
      "provenance": []
    },
    "hide_input": false,
    "kernelspec": {
      "display_name": "Python 3",
      "language": "python",
      "name": "python3"
    },
    "language_info": {
      "name": "python",
      "version": "3.10.6"
    },
    "nbTranslate": {
      "displayLangs": [
        "*"
      ],
      "hotkey": "alt-t",
      "langInMainMenu": true,
      "sourceLang": "en",
      "targetLang": "fr",
      "useGoogleTranslate": true
    },
    "toc": {
      "base_numbering": 1,
      "nav_menu": {},
      "number_sections": true,
      "sideBar": true,
      "skip_h1_title": false,
      "title_cell": "Table of Contents",
      "title_sidebar": "Contents",
      "toc_cell": false,
      "toc_position": {},
      "toc_section_display": true,
      "toc_window_display": false
    },
    "varInspector": {
      "cols": {
        "lenName": 16,
        "lenType": 16,
        "lenVar": 40
      },
      "kernels_config": {
        "python": {
          "delete_cmd_postfix": "",
          "delete_cmd_prefix": "del ",
          "library": "var_list.py",
          "varRefreshCmd": "print(var_dic_list())"
        },
        "r": {
          "delete_cmd_postfix": ") ",
          "delete_cmd_prefix": "rm(",
          "library": "var_list.r",
          "varRefreshCmd": "cat(var_dic_list()) "
        }
      },
      "types_to_exclude": [
        "module",
        "function",
        "builtin_function_or_method",
        "instance",
        "_Feature"
      ],
      "window_display": false
    },
    "vscode": {
      "interpreter": {
        "hash": "369f2c481f4da34e4445cda3fffd2e751bd1c4d706f27375911949ba6bb62e1c"
      }
    }
  },
  "nbformat": 4,
  "nbformat_minor": 0
}
