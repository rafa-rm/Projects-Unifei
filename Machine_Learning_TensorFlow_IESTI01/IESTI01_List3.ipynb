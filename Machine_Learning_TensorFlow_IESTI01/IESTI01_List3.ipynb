{
  "cells": [
    {
      "cell_type": "markdown",
      "metadata": {
        "id": "Lb4Ai3FKgZHJ"
      },
      "source": [
        "## Define a possible model"
      ]
    },
    {
      "cell_type": "code",
      "execution_count": 13,
      "metadata": {
        "id": "J84unqlAf_tN"
      },
      "outputs": [],
      "source": [
        "import tensorflow as tf\n",
        "import matplotlib.pyplot as plt\n",
        "\n",
        "# Load in fashion MNIST\n",
        "mnist = tf.keras.datasets.fashion_mnist\n",
        "(training_images, training_labels), (test_images, test_labels) = mnist.load_data()\n",
        "\n",
        "# Define the base model\n",
        "model = tf.keras.models.Sequential([tf.keras.layers.Flatten(input_shape=(28,28)), \n",
        "                                    tf.keras.layers.Dense(512, activation=tf.nn.relu), \n",
        "                                    tf.keras.layers.Dense(10, activation=tf.nn.softmax)])"
      ]
    },
    {
      "cell_type": "markdown",
      "metadata": {
        "id": "7qCRJ_8ThksW"
      },
      "source": [
        "## Normalizing Data\n"
      ]
    },
    {
      "cell_type": "code",
      "execution_count": 14,
      "metadata": {
        "id": "E0TZZ0iWhmA2"
      },
      "outputs": [],
      "source": [
        "training_images  = training_images / 255.0\n",
        "test_images = test_images / 255.0"
      ]
    },
    {
      "cell_type": "code",
      "execution_count": 15,
      "metadata": {
        "colab": {
          "base_uri": "https://localhost:8080/"
        },
        "id": "dw_es0Riirr5",
        "outputId": "102523bb-a877-4865-b264-2e46f8d3eac3"
      },
      "outputs": [
        {
          "data": {
            "text/plain": [
              "1.0"
            ]
          },
          "execution_count": 15,
          "metadata": {},
          "output_type": "execute_result"
        }
      ],
      "source": [
        "training_images.max()"
      ]
    },
    {
      "cell_type": "code",
      "execution_count": 16,
      "metadata": {
        "colab": {
          "base_uri": "https://localhost:8080/"
        },
        "id": "YD73r6WVjXAB",
        "outputId": "a0b5f75d-28d5-4001-91b9-5a18f3ed234b"
      },
      "outputs": [
        {
          "data": {
            "text/plain": [
              "1.0"
            ]
          },
          "execution_count": 16,
          "metadata": {},
          "output_type": "execute_result"
        }
      ],
      "source": [
        "test_images.max()"
      ]
    },
    {
      "cell_type": "markdown",
      "metadata": {
        "id": "5797xSF5i4vJ"
      },
      "source": [
        "## Compile Model"
      ]
    },
    {
      "cell_type": "code",
      "execution_count": 17,
      "metadata": {
        "colab": {
          "base_uri": "https://localhost:8080/"
        },
        "id": "fRIzCfuCi6aw",
        "outputId": "0bd3a6a0-6a76-42ab-912d-310bb012e97b"
      },
      "outputs": [
        {
          "name": "stdout",
          "output_type": "stream",
          "text": [
            "Epoch 1/5\n",
            "1875/1875 [==============================] - 10s 5ms/step - loss: 0.4742 - accuracy: 0.8311\n",
            "Epoch 2/5\n",
            "1875/1875 [==============================] - 9s 5ms/step - loss: 0.3583 - accuracy: 0.8680\n",
            "Epoch 3/5\n",
            "1875/1875 [==============================] - 9s 5ms/step - loss: 0.3230 - accuracy: 0.8822\n",
            "Epoch 4/5\n",
            "1875/1875 [==============================] - 9s 5ms/step - loss: 0.3004 - accuracy: 0.8893\n",
            "Epoch 5/5\n",
            "1875/1875 [==============================] - 10s 5ms/step - loss: 0.2811 - accuracy: 0.8949\n",
            "313/313 [==============================] - 1s 3ms/step - loss: 0.3362 - accuracy: 0.8794\n"
          ]
        },
        {
          "data": {
            "text/plain": [
              "[0.336198627948761, 0.8794000148773193]"
            ]
          },
          "execution_count": 17,
          "metadata": {},
          "output_type": "execute_result"
        }
      ],
      "source": [
        "# compile the model\n",
        "model.compile(optimizer = tf.keras.optimizers.Adam(),\n",
        "              loss = 'sparse_categorical_crossentropy',\n",
        "              metrics=['accuracy'])\n",
        "\n",
        "# fit the model to the training data\n",
        "model.fit(training_images, training_labels, epochs=5)\n",
        "\n",
        "# test the model on the test data\n",
        "model.evaluate(test_images, test_labels)"
      ]
    },
    {
      "cell_type": "markdown",
      "metadata": {
        "id": "Puj9Wcraju9G"
      },
      "source": [
        "## Undestanting the model"
      ]
    },
    {
      "cell_type": "code",
      "execution_count": 18,
      "metadata": {
        "colab": {
          "base_uri": "https://localhost:8080/"
        },
        "id": "vSP3fjGdjuOJ",
        "outputId": "c1565f2c-c889-4e1c-ad54-fea4ac3452cc"
      },
      "outputs": [
        {
          "name": "stdout",
          "output_type": "stream",
          "text": [
            "[9.25685626e-08 5.74098280e-09 1.03018444e-07 3.60960795e-09\n",
            " 3.84998941e-07 4.58240509e-03 1.17439401e-06 4.80651855e-03\n",
            " 4.95371637e-07 9.90608811e-01]\n"
          ]
        }
      ],
      "source": [
        "classifications = model.predict(test_images)\n",
        "print(classifications[0])"
      ]
    },
    {
      "cell_type": "code",
      "execution_count": 19,
      "metadata": {
        "colab": {
          "base_uri": "https://localhost:8080/"
        },
        "id": "3Pw0YaQZj0WI",
        "outputId": "7c2fa3d7-4290-46df-d18e-355bc20752ef"
      },
      "outputs": [
        {
          "name": "stdout",
          "output_type": "stream",
          "text": [
            "9\n"
          ]
        }
      ],
      "source": [
        "print(test_labels[0])"
      ]
    },
    {
      "cell_type": "markdown",
      "metadata": {
        "id": "uZbiCF7mkXzq"
      },
      "source": [
        "Os valores obtidos em \"classifications\" representam a \"chance\" da imagem testada\n",
        "ser daquela classe, segundo o modelo. Desse modo ao usar o comando ```print(test_labels[0])```, percebe-se que o valor 9 corresponde a classe que possui o maior valor em \"classifications\".\n",
        "\n"
      ]
    },
    {
      "cell_type": "markdown",
      "metadata": {
        "id": "xX3CqqTWlWoB"
      },
      "source": [
        "## Double the number of neurons\n",
        "\n"
      ]
    },
    {
      "cell_type": "code",
      "execution_count": 20,
      "metadata": {
        "colab": {
          "base_uri": "https://localhost:8080/"
        },
        "id": "5Si0l6EklvCJ",
        "outputId": "b46cfd78-31b4-4100-9327-44e98cbe7c15"
      },
      "outputs": [
        {
          "name": "stdout",
          "output_type": "stream",
          "text": [
            "Epoch 1/5\n",
            "1875/1875 [==============================] - 16s 8ms/step - loss: 0.4724 - accuracy: 0.8303\n",
            "Epoch 2/5\n",
            "1875/1875 [==============================] - 15s 8ms/step - loss: 0.3600 - accuracy: 0.8684\n",
            "Epoch 3/5\n",
            "1875/1875 [==============================] - 15s 8ms/step - loss: 0.3218 - accuracy: 0.8822\n",
            "Epoch 4/5\n",
            "1875/1875 [==============================] - 16s 8ms/step - loss: 0.2975 - accuracy: 0.8897\n",
            "Epoch 5/5\n",
            "1875/1875 [==============================] - 16s 8ms/step - loss: 0.2779 - accuracy: 0.8960\n",
            "313/313 [==============================] - 1s 4ms/step - loss: 0.3389 - accuracy: 0.8763\n"
          ]
        },
        {
          "data": {
            "text/plain": [
              "[0.3389160633087158, 0.8762999773025513]"
            ]
          },
          "execution_count": 20,
          "metadata": {},
          "output_type": "execute_result"
        }
      ],
      "source": [
        "NUMBER_OF_NEURONS = 1024\n",
        "\n",
        "# define the new model\n",
        "model = tf.keras.models.Sequential([tf.keras.layers.Flatten(input_shape=(28,28)),\n",
        "                                    tf.keras.layers.Dense(NUMBER_OF_NEURONS, activation=tf.nn.relu),\n",
        "                                    tf.keras.layers.Dense(10, activation=tf.nn.softmax)])\n",
        "\n",
        "# compile fit and evaluate the model again\n",
        "model.compile(optimizer = tf.keras.optimizers.Adam(),\n",
        "              loss = 'sparse_categorical_crossentropy',\n",
        "              metrics=['accuracy'])\n",
        "model.fit(training_images, training_labels, epochs=5)\n",
        "model.evaluate(test_images, test_labels)"
      ]
    },
    {
      "cell_type": "markdown",
      "metadata": {
        "id": "2YDCQqECmMkB"
      },
      "source": [
        "Aumentando o número de neurônios, aumenta-se também o tempo de treinamento, visto que existem mais neurônios, onde são realizados cálculos. <br>\n",
        "Como foi visto nesse caso, o aumento de neurônios não significou no aumento da \"accuracy\" ou na diminuiação de \"loss\". <br>\n",
        "Assim, conclui-se que o modelo com 512 neurônios apresenta um resultado melhor que o modelo com 1024 neurônios, já que demora menos tempo para ser treinado e possui uma \"accuracy\" um pouco melhor, quando analisado os dados de teste. "
      ]
    },
    {
      "cell_type": "markdown",
      "metadata": {
        "id": "m7LOW_GXnq-x"
      },
      "source": [
        "## Add a new layer"
      ]
    },
    {
      "cell_type": "code",
      "execution_count": 38,
      "metadata": {
        "id": "RO20MoJSoK_h"
      },
      "outputs": [],
      "source": [
        "YOUR_NEW_LAYER = tf.keras.layers.Dense(20, activation = tf.nn.relu)\n",
        "\n",
        "model = tf.keras.models.Sequential([tf.keras.layers.Flatten(input_shape=(28,28)),\n",
        "                                    tf.keras.layers.Dense(512, activation=tf.nn.relu),\n",
        "                                    YOUR_NEW_LAYER,\n",
        "                                    tf.keras.layers.Dense(10, activation=tf.nn.softmax)])"
      ]
    },
    {
      "cell_type": "code",
      "execution_count": 39,
      "metadata": {
        "colab": {
          "base_uri": "https://localhost:8080/"
        },
        "id": "jj7Rjp9Eonph",
        "outputId": "c7a7bcea-1d0c-4910-ee16-46108f95659a"
      },
      "outputs": [
        {
          "name": "stdout",
          "output_type": "stream",
          "text": [
            "Epoch 1/5\n",
            "1875/1875 [==============================] - 10s 5ms/step - loss: 0.4937 - accuracy: 0.8243\n",
            "Epoch 2/5\n",
            "1875/1875 [==============================] - 9s 5ms/step - loss: 0.3692 - accuracy: 0.8662\n",
            "Epoch 3/5\n",
            "1875/1875 [==============================] - 9s 5ms/step - loss: 0.3291 - accuracy: 0.8803\n",
            "Epoch 4/5\n",
            "1875/1875 [==============================] - 10s 5ms/step - loss: 0.3075 - accuracy: 0.8865\n",
            "Epoch 5/5\n",
            "1875/1875 [==============================] - 9s 5ms/step - loss: 0.2880 - accuracy: 0.8923\n",
            "313/313 [==============================] - 1s 3ms/step - loss: 0.3490 - accuracy: 0.8737\n"
          ]
        },
        {
          "data": {
            "text/plain": [
              "[0.3490239977836609, 0.8737000226974487]"
            ]
          },
          "execution_count": 39,
          "metadata": {},
          "output_type": "execute_result"
        }
      ],
      "source": [
        "# compile fit and evaluate the model again\n",
        "model.compile(optimizer = tf.keras.optimizers.Adam(),\n",
        "              loss = 'sparse_categorical_crossentropy',\n",
        "              metrics=['accuracy'])\n",
        "model.fit(training_images, training_labels, epochs=5)\n",
        "model.evaluate(test_images, test_labels)"
      ]
    },
    {
      "cell_type": "markdown",
      "metadata": {
        "id": "BETxLRJep8RB"
      },
      "source": [
        "Novamente, o primeiro modelo ainda apresenta um resultado um pouco melhor, levando em consideração o \"loss\". No entanto, os valores de \"loss\" obtido pelos três modelos foram bem próximos. <br>\n",
        "Sendo assim, ainda considero o primeiro modelo melhor que os outros dois, visto que apresentou um \"loss\" mais baixo com os dados de teste e foi treinado com um tempo igual ao terceiro modelo."
      ]
    },
    {
      "cell_type": "markdown",
      "metadata": {
        "id": "MSu3NkQMqnkp"
      },
      "source": [
        "## Using non-normalized data"
      ]
    },
    {
      "cell_type": "code",
      "execution_count": 40,
      "metadata": {
        "colab": {
          "base_uri": "https://localhost:8080/"
        },
        "id": "SQX4Nb6SrQKi",
        "outputId": "9fceae26-9e5e-4360-cc9c-e684a4ab4e74"
      },
      "outputs": [
        {
          "name": "stdout",
          "output_type": "stream",
          "text": [
            "255.0\n",
            "255.0\n"
          ]
        }
      ],
      "source": [
        "# get new non-normalized mnist data\n",
        "training_images_non = training_images * 255.0\n",
        "test_images_non = test_images * 255.0\n",
        "print(training_images_non.max())\n",
        "print(test_images_non.max())"
      ]
    },
    {
      "cell_type": "code",
      "execution_count": 41,
      "metadata": {
        "colab": {
          "base_uri": "https://localhost:8080/"
        },
        "id": "_z76kDjdqw4R",
        "outputId": "321123b6-c8ea-4c03-9dd7-a33e561c9c18"
      },
      "outputs": [
        {
          "name": "stdout",
          "output_type": "stream",
          "text": [
            "Epoch 1/5\n",
            "1875/1875 [==============================] - 13s 7ms/step - loss: 3.5222 - accuracy: 0.3012\n",
            "Epoch 2/5\n",
            "1875/1875 [==============================] - 10s 5ms/step - loss: 1.6547 - accuracy: 0.2953\n",
            "Epoch 3/5\n",
            "1875/1875 [==============================] - 10s 5ms/step - loss: 1.4810 - accuracy: 0.3579\n",
            "Epoch 4/5\n",
            "1875/1875 [==============================] - 10s 5ms/step - loss: 1.4293 - accuracy: 0.3688\n",
            "Epoch 5/5\n",
            "1875/1875 [==============================] - 10s 6ms/step - loss: 1.4254 - accuracy: 0.3738\n",
            "313/313 [==============================] - 1s 3ms/step - loss: 1.4025 - accuracy: 0.3826\n"
          ]
        },
        {
          "data": {
            "text/plain": [
              "[1.4024919271469116, 0.38260000944137573]"
            ]
          },
          "execution_count": 41,
          "metadata": {},
          "output_type": "execute_result"
        }
      ],
      "source": [
        "# re-compile, re-fit and re-evaluate\n",
        "model = tf.keras.models.Sequential([tf.keras.layers.Flatten(input_shape=(28,28)),\n",
        "                                    tf.keras.layers.Dense(512, activation=tf.nn.relu),\n",
        "                                    YOUR_NEW_LAYER,\n",
        "                                    tf.keras.layers.Dense(10, activation=tf.nn.softmax)])\n",
        "model.compile(optimizer = tf.keras.optimizers.Adam(),\n",
        "              loss = 'sparse_categorical_crossentropy',\n",
        "              metrics=['accuracy'])\n",
        "model.fit(training_images_non, training_labels, epochs=5)\n",
        "model.evaluate(test_images_non, test_labels)"
      ]
    },
    {
      "cell_type": "code",
      "execution_count": 42,
      "metadata": {
        "colab": {
          "base_uri": "https://localhost:8080/"
        },
        "id": "CxzneLCkr3hx",
        "outputId": "017b9a8f-5d4a-4e5c-fb03-3da208ffe0ca"
      },
      "outputs": [
        {
          "name": "stdout",
          "output_type": "stream",
          "text": [
            "[4.8853374e-12 4.0856756e-16 3.6636104e-21 1.5922333e-18 1.7885766e-20\n",
            " 3.9451060e-01 6.5330987e-13 5.6983568e-02 3.2228988e-02 5.1627690e-01]\n"
          ]
        }
      ],
      "source": [
        "classifications = model.predict(test_images_non)\n",
        "print(classifications[0])"
      ]
    },
    {
      "cell_type": "markdown",
      "metadata": {
        "id": "G5r3oG8btdfy"
      },
      "source": [
        "Com os dados não normalizados, o resultado foi bem pior que os outros três modelos, visto que apresentou um \"loss\" consideravelmente maior e uma \"accuracy\" menor. <br>\n",
        "Analisando \"classifications\", foi evidenciado que o modelo não tem uma boa precisão como o primeiro modelo."
      ]
    }
  ],
  "metadata": {
    "colab": {
      "collapsed_sections": [],
      "name": "IESTI01_List3_2018005619_Rafael.ipynb",
      "provenance": []
    },
    "kernelspec": {
      "display_name": "Python 3",
      "language": "python",
      "name": "python3"
    },
    "language_info": {
      "name": "python",
      "version": "3.10.6"
    },
    "vscode": {
      "interpreter": {
        "hash": "369f2c481f4da34e4445cda3fffd2e751bd1c4d706f27375911949ba6bb62e1c"
      }
    }
  },
  "nbformat": 4,
  "nbformat_minor": 0
}
